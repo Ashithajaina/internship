{
  "nbformat": 4,
  "nbformat_minor": 0,
  "metadata": {
    "colab": {
      "name": "sample project.ipynb",
      "version": "0.3.2",
      "provenance": [],
      "include_colab_link": true
    },
    "kernelspec": {
      "name": "python3",
      "display_name": "Python 3"
    }
  },
  "cells": [
    {
      "cell_type": "markdown",
      "metadata": {
        "id": "view-in-github",
        "colab_type": "text"
      },
      "source": [
        "<a href=\"https://colab.research.google.com/github/Ashithajaina/internship/blob/master/sample_project.ipynb\" target=\"_parent\"><img src=\"https://colab.research.google.com/assets/colab-badge.svg\" alt=\"Open In Colab\"/></a>"
      ]
    },
    {
      "cell_type": "code",
      "metadata": {
        "id": "ArtMTdqiWYXm",
        "colab_type": "code",
        "colab": {}
      },
      "source": [
        "from mlxtend.plotting import plot_decision_regions\n",
        "import numpy as np\n",
        "import pandas as pd\n",
        "import matplotlib.pyplot as plt\n",
        "import seaborn as sns\n",
        "sns.set()\n",
        "import warnings\n",
        "warnings.filterwarnings('ignore')\n",
        "%matplotlib inline"
      ],
      "execution_count": 0,
      "outputs": []
    },
    {
      "cell_type": "code",
      "metadata": {
        "id": "ML2t4x4nZ_JH",
        "colab_type": "code",
        "outputId": "7d18ec06-8326-4e5a-d61e-89e5cfb2e9ee",
        "colab": {
          "base_uri": "https://localhost:8080/",
          "height": 204
        }
      },
      "source": [
        "diabetes_data= pd.read_csv('diabetes.csv')\n",
        "print(diabetes_data)"
      ],
      "execution_count": 0,
      "outputs": [
        {
          "output_type": "stream",
          "text": [
            "   pregnancies  glucose   Bp  skinthickness  ...   bmi  diabets  age  outcomes\n",
            "0            0        6  143             35  ...  33.6    0.627   23         1\n",
            "1            1        1   85             25  ...  26.6    0.351   40         0\n",
            "2            2        6  183              0  ...  23.3    0.672   21         1\n",
            "3            3        1   89            211  ...  26.1    0.123   22         0\n",
            "4            4        2   90             33  ...  33.5    0.324   23         1\n",
            "5            5        7   99             44  ...  44.6    0.445   22         1\n",
            "6            6        6   88             55  ...  66.7    0.766   33         1\n",
            "7            7        3   99             33  ...  33.8    0.765   44         0\n",
            "\n",
            "[8 rows x 9 columns]\n"
          ],
          "name": "stdout"
        }
      ]
    },
    {
      "cell_type": "code",
      "metadata": {
        "id": "RbO1fc6edL3W",
        "colab_type": "code",
        "outputId": "4314de5e-a7bb-4426-9e9d-325d5915c3ee",
        "colab": {
          "base_uri": "https://localhost:8080/",
          "height": 255
        }
      },
      "source": [
        "diabetes_data.info(verbose=True)"
      ],
      "execution_count": 0,
      "outputs": [
        {
          "output_type": "stream",
          "text": [
            "<class 'pandas.core.frame.DataFrame'>\n",
            "RangeIndex: 8 entries, 0 to 7\n",
            "Data columns (total 9 columns):\n",
            "pregnancies      8 non-null int64\n",
            "glucose          8 non-null int64\n",
            "Bp               8 non-null int64\n",
            "skinthickness    8 non-null int64\n",
            "insulin          8 non-null int64\n",
            "bmi              8 non-null float64\n",
            "diabets          8 non-null float64\n",
            "age              8 non-null int64\n",
            "outcomes         8 non-null int64\n",
            "dtypes: float64(2), int64(7)\n",
            "memory usage: 656.0 bytes\n"
          ],
          "name": "stdout"
        }
      ]
    },
    {
      "cell_type": "code",
      "metadata": {
        "id": "bhKR6DW_dWBA",
        "colab_type": "code",
        "outputId": "2492c4f1-9be6-4ffd-cffb-92ccfd2b63b4",
        "colab": {
          "base_uri": "https://localhost:8080/",
          "height": 297
        }
      },
      "source": [
        "diabetes_data.describe()"
      ],
      "execution_count": 0,
      "outputs": [
        {
          "output_type": "execute_result",
          "data": {
            "text/html": [
              "<div>\n",
              "<style scoped>\n",
              "    .dataframe tbody tr th:only-of-type {\n",
              "        vertical-align: middle;\n",
              "    }\n",
              "\n",
              "    .dataframe tbody tr th {\n",
              "        vertical-align: top;\n",
              "    }\n",
              "\n",
              "    .dataframe thead th {\n",
              "        text-align: right;\n",
              "    }\n",
              "</style>\n",
              "<table border=\"1\" class=\"dataframe\">\n",
              "  <thead>\n",
              "    <tr style=\"text-align: right;\">\n",
              "      <th></th>\n",
              "      <th>pregnancies</th>\n",
              "      <th>glucose</th>\n",
              "      <th>Bp</th>\n",
              "      <th>skinthickness</th>\n",
              "      <th>insulin</th>\n",
              "      <th>bmi</th>\n",
              "      <th>diabets</th>\n",
              "      <th>age</th>\n",
              "      <th>outcomes</th>\n",
              "    </tr>\n",
              "  </thead>\n",
              "  <tbody>\n",
              "    <tr>\n",
              "      <th>count</th>\n",
              "      <td>8.00000</td>\n",
              "      <td>8.000000</td>\n",
              "      <td>8.000000</td>\n",
              "      <td>8.000000</td>\n",
              "      <td>8.000000</td>\n",
              "      <td>8.000000</td>\n",
              "      <td>8.000000</td>\n",
              "      <td>8.000000</td>\n",
              "      <td>8.000000</td>\n",
              "    </tr>\n",
              "    <tr>\n",
              "      <th>mean</th>\n",
              "      <td>3.50000</td>\n",
              "      <td>4.000000</td>\n",
              "      <td>109.500000</td>\n",
              "      <td>54.500000</td>\n",
              "      <td>17.375000</td>\n",
              "      <td>36.025000</td>\n",
              "      <td>0.509125</td>\n",
              "      <td>28.500000</td>\n",
              "      <td>1.375000</td>\n",
              "    </tr>\n",
              "    <tr>\n",
              "      <th>std</th>\n",
              "      <td>2.44949</td>\n",
              "      <td>2.507133</td>\n",
              "      <td>35.067282</td>\n",
              "      <td>65.189833</td>\n",
              "      <td>32.004185</td>\n",
              "      <td>14.045614</td>\n",
              "      <td>0.234325</td>\n",
              "      <td>9.211794</td>\n",
              "      <td>0.744024</td>\n",
              "    </tr>\n",
              "    <tr>\n",
              "      <th>min</th>\n",
              "      <td>0.00000</td>\n",
              "      <td>1.000000</td>\n",
              "      <td>85.000000</td>\n",
              "      <td>0.000000</td>\n",
              "      <td>0.000000</td>\n",
              "      <td>23.300000</td>\n",
              "      <td>0.123000</td>\n",
              "      <td>21.000000</td>\n",
              "      <td>0.000000</td>\n",
              "    </tr>\n",
              "    <tr>\n",
              "      <th>25%</th>\n",
              "      <td>1.75000</td>\n",
              "      <td>1.750000</td>\n",
              "      <td>88.750000</td>\n",
              "      <td>31.000000</td>\n",
              "      <td>0.000000</td>\n",
              "      <td>26.475000</td>\n",
              "      <td>0.344250</td>\n",
              "      <td>22.000000</td>\n",
              "      <td>1.000000</td>\n",
              "    </tr>\n",
              "    <tr>\n",
              "      <th>50%</th>\n",
              "      <td>3.50000</td>\n",
              "      <td>4.500000</td>\n",
              "      <td>94.500000</td>\n",
              "      <td>34.000000</td>\n",
              "      <td>5.500000</td>\n",
              "      <td>33.550000</td>\n",
              "      <td>0.536000</td>\n",
              "      <td>23.000000</td>\n",
              "      <td>1.500000</td>\n",
              "    </tr>\n",
              "    <tr>\n",
              "      <th>75%</th>\n",
              "      <td>5.25000</td>\n",
              "      <td>6.000000</td>\n",
              "      <td>110.000000</td>\n",
              "      <td>46.750000</td>\n",
              "      <td>14.500000</td>\n",
              "      <td>36.500000</td>\n",
              "      <td>0.695250</td>\n",
              "      <td>34.750000</td>\n",
              "      <td>2.000000</td>\n",
              "    </tr>\n",
              "    <tr>\n",
              "      <th>max</th>\n",
              "      <td>7.00000</td>\n",
              "      <td>7.000000</td>\n",
              "      <td>183.000000</td>\n",
              "      <td>211.000000</td>\n",
              "      <td>94.000000</td>\n",
              "      <td>66.700000</td>\n",
              "      <td>0.766000</td>\n",
              "      <td>44.000000</td>\n",
              "      <td>2.000000</td>\n",
              "    </tr>\n",
              "  </tbody>\n",
              "</table>\n",
              "</div>"
            ],
            "text/plain": [
              "       pregnancies   glucose          Bp  ...   diabets        age  outcomes\n",
              "count      8.00000  8.000000    8.000000  ...  8.000000   8.000000  8.000000\n",
              "mean       3.50000  4.000000  109.500000  ...  0.509125  28.500000  1.375000\n",
              "std        2.44949  2.507133   35.067282  ...  0.234325   9.211794  0.744024\n",
              "min        0.00000  1.000000   85.000000  ...  0.123000  21.000000  0.000000\n",
              "25%        1.75000  1.750000   88.750000  ...  0.344250  22.000000  1.000000\n",
              "50%        3.50000  4.500000   94.500000  ...  0.536000  23.000000  1.500000\n",
              "75%        5.25000  6.000000  110.000000  ...  0.695250  34.750000  2.000000\n",
              "max        7.00000  7.000000  183.000000  ...  0.766000  44.000000  2.000000\n",
              "\n",
              "[8 rows x 9 columns]"
            ]
          },
          "metadata": {
            "tags": []
          },
          "execution_count": 9
        }
      ]
    },
    {
      "cell_type": "code",
      "metadata": {
        "id": "tSL0ucMJdmjE",
        "colab_type": "code",
        "outputId": "94f7c84e-c1b1-4e78-d491-6ba56e7a02f0",
        "colab": {
          "base_uri": "https://localhost:8080/",
          "height": 328
        }
      },
      "source": [
        "diabetes_data.describe().T"
      ],
      "execution_count": 0,
      "outputs": [
        {
          "output_type": "execute_result",
          "data": {
            "text/html": [
              "<div>\n",
              "<style scoped>\n",
              "    .dataframe tbody tr th:only-of-type {\n",
              "        vertical-align: middle;\n",
              "    }\n",
              "\n",
              "    .dataframe tbody tr th {\n",
              "        vertical-align: top;\n",
              "    }\n",
              "\n",
              "    .dataframe thead th {\n",
              "        text-align: right;\n",
              "    }\n",
              "</style>\n",
              "<table border=\"1\" class=\"dataframe\">\n",
              "  <thead>\n",
              "    <tr style=\"text-align: right;\">\n",
              "      <th></th>\n",
              "      <th>count</th>\n",
              "      <th>mean</th>\n",
              "      <th>std</th>\n",
              "      <th>min</th>\n",
              "      <th>25%</th>\n",
              "      <th>50%</th>\n",
              "      <th>75%</th>\n",
              "      <th>max</th>\n",
              "    </tr>\n",
              "  </thead>\n",
              "  <tbody>\n",
              "    <tr>\n",
              "      <th>pregnancies</th>\n",
              "      <td>8.0</td>\n",
              "      <td>3.500000</td>\n",
              "      <td>2.449490</td>\n",
              "      <td>0.000</td>\n",
              "      <td>1.75000</td>\n",
              "      <td>3.500</td>\n",
              "      <td>5.25000</td>\n",
              "      <td>7.000</td>\n",
              "    </tr>\n",
              "    <tr>\n",
              "      <th>glucose</th>\n",
              "      <td>8.0</td>\n",
              "      <td>4.000000</td>\n",
              "      <td>2.507133</td>\n",
              "      <td>1.000</td>\n",
              "      <td>1.75000</td>\n",
              "      <td>4.500</td>\n",
              "      <td>6.00000</td>\n",
              "      <td>7.000</td>\n",
              "    </tr>\n",
              "    <tr>\n",
              "      <th>Bp</th>\n",
              "      <td>8.0</td>\n",
              "      <td>109.500000</td>\n",
              "      <td>35.067282</td>\n",
              "      <td>85.000</td>\n",
              "      <td>88.75000</td>\n",
              "      <td>94.500</td>\n",
              "      <td>110.00000</td>\n",
              "      <td>183.000</td>\n",
              "    </tr>\n",
              "    <tr>\n",
              "      <th>skinthickness</th>\n",
              "      <td>8.0</td>\n",
              "      <td>54.500000</td>\n",
              "      <td>65.189833</td>\n",
              "      <td>0.000</td>\n",
              "      <td>31.00000</td>\n",
              "      <td>34.000</td>\n",
              "      <td>46.75000</td>\n",
              "      <td>211.000</td>\n",
              "    </tr>\n",
              "    <tr>\n",
              "      <th>insulin</th>\n",
              "      <td>8.0</td>\n",
              "      <td>17.375000</td>\n",
              "      <td>32.004185</td>\n",
              "      <td>0.000</td>\n",
              "      <td>0.00000</td>\n",
              "      <td>5.500</td>\n",
              "      <td>14.50000</td>\n",
              "      <td>94.000</td>\n",
              "    </tr>\n",
              "    <tr>\n",
              "      <th>bmi</th>\n",
              "      <td>8.0</td>\n",
              "      <td>36.025000</td>\n",
              "      <td>14.045614</td>\n",
              "      <td>23.300</td>\n",
              "      <td>26.47500</td>\n",
              "      <td>33.550</td>\n",
              "      <td>36.50000</td>\n",
              "      <td>66.700</td>\n",
              "    </tr>\n",
              "    <tr>\n",
              "      <th>diabets</th>\n",
              "      <td>8.0</td>\n",
              "      <td>0.509125</td>\n",
              "      <td>0.234325</td>\n",
              "      <td>0.123</td>\n",
              "      <td>0.34425</td>\n",
              "      <td>0.536</td>\n",
              "      <td>0.69525</td>\n",
              "      <td>0.766</td>\n",
              "    </tr>\n",
              "    <tr>\n",
              "      <th>age</th>\n",
              "      <td>8.0</td>\n",
              "      <td>28.500000</td>\n",
              "      <td>9.211794</td>\n",
              "      <td>21.000</td>\n",
              "      <td>22.00000</td>\n",
              "      <td>23.000</td>\n",
              "      <td>34.75000</td>\n",
              "      <td>44.000</td>\n",
              "    </tr>\n",
              "    <tr>\n",
              "      <th>outcomes</th>\n",
              "      <td>8.0</td>\n",
              "      <td>1.375000</td>\n",
              "      <td>0.744024</td>\n",
              "      <td>0.000</td>\n",
              "      <td>1.00000</td>\n",
              "      <td>1.500</td>\n",
              "      <td>2.00000</td>\n",
              "      <td>2.000</td>\n",
              "    </tr>\n",
              "  </tbody>\n",
              "</table>\n",
              "</div>"
            ],
            "text/plain": [
              "               count        mean        std  ...     50%        75%      max\n",
              "pregnancies      8.0    3.500000   2.449490  ...   3.500    5.25000    7.000\n",
              "glucose          8.0    4.000000   2.507133  ...   4.500    6.00000    7.000\n",
              "Bp               8.0  109.500000  35.067282  ...  94.500  110.00000  183.000\n",
              "skinthickness    8.0   54.500000  65.189833  ...  34.000   46.75000  211.000\n",
              "insulin          8.0   17.375000  32.004185  ...   5.500   14.50000   94.000\n",
              "bmi              8.0   36.025000  14.045614  ...  33.550   36.50000   66.700\n",
              "diabets          8.0    0.509125   0.234325  ...   0.536    0.69525    0.766\n",
              "age              8.0   28.500000   9.211794  ...  23.000   34.75000   44.000\n",
              "outcomes         8.0    1.375000   0.744024  ...   1.500    2.00000    2.000\n",
              "\n",
              "[9 rows x 8 columns]"
            ]
          },
          "metadata": {
            "tags": []
          },
          "execution_count": 10
        }
      ]
    },
    {
      "cell_type": "code",
      "metadata": {
        "id": "aL0EOVhpd5UO",
        "colab_type": "code",
        "outputId": "0079dd9e-2fb9-4a19-c41f-39117296f1d4",
        "colab": {
          "base_uri": "https://localhost:8080/",
          "height": 187
        }
      },
      "source": [
        "diabetes_data_copy = diabetes_data.copy(deep = True)\n",
        "diabetes_data_copy[['glucose','Bp','skinthickness','insulin','bmi']] = diabetes_data_copy[['glucose','Bp','skinthickness','insulin','bmi']].replace(0,np.NaN)\n",
        "\n",
        "print(diabetes_data_copy.isnull().sum())"
      ],
      "execution_count": 0,
      "outputs": [
        {
          "output_type": "stream",
          "text": [
            "pregnancies      0\n",
            "glucose          0\n",
            "Bp               0\n",
            "skinthickness    1\n",
            "insulin          4\n",
            "bmi              0\n",
            "diabets          0\n",
            "age              0\n",
            "outcomes         0\n",
            "dtype: int64\n"
          ],
          "name": "stdout"
        }
      ]
    },
    {
      "cell_type": "code",
      "metadata": {
        "id": "Uo-UV1WmdV9p",
        "colab_type": "code",
        "outputId": "639f3b39-53dc-4f28-9a9c-0b8049b73533",
        "colab": {
          "base_uri": "https://localhost:8080/",
          "height": 1000
        }
      },
      "source": [
        "p = diabetes_data.hist(figsize = (20,20))\n"
      ],
      "execution_count": 0,
      "outputs": [
        {
          "output_type": "display_data",
          "data": {
            "image/png": "[encoded data removed]",
            "text/plain": [
              "<Figure size 1440x1440 with 9 Axes>"
            ]
          },
          "metadata": {
            "tags": []
          }
        }
      ]
    },
    {
      "cell_type": "code",
      "metadata": {
        "id": "fru7p25hjaO-",
        "colab_type": "code",
        "colab": {}
      },
      "source": [
        "diabetes_data_copy['glucose'].fillna(diabetes_data_copy['glucose'].mean(), inplace = True)\n",
        "diabetes_data_copy['Bp'].fillna(diabetes_data_copy['Bp'].mean(), inplace = True)\n",
        "diabetes_data_copy['skinthickness'].fillna(diabetes_data_copy['skinthickness'].median(), inplace = True)\n",
        "diabetes_data_copy['insulin'].fillna(diabetes_data_copy['insulin'].median(), inplace = True)\n",
        "diabetes_data_copy['bmi'].fillna(diabetes_data_copy['bmi'].median(), inplace = True)"
      ],
      "execution_count": 0,
      "outputs": []
    },
    {
      "cell_type": "code",
      "metadata": {
        "id": "BqV3MvwfqWzF",
        "colab_type": "code",
        "outputId": "69ce9f42-8e00-478b-9419-c0f373c8d082",
        "colab": {
          "base_uri": "https://localhost:8080/",
          "height": 1000
        }
      },
      "source": [
        "p = diabetes_data_copy.hist(figsize = (20,20))"
      ],
      "execution_count": 0,
      "outputs": [
        {
          "output_type": "display_data",
          "data": {
            "image/png": "[encoded data removed]",
            "text/plain": [
              "<Figure size 1440x1440 with 9 Axes>"
            ]
          },
          "metadata": {
            "tags": []
          }
        }
      ]
    },
    {
      "cell_type": "code",
      "metadata": {
        "id": "zhBB834kqtta",
        "colab_type": "code",
        "outputId": "43cee7f4-c7e7-4082-c5ab-07869bef7031",
        "colab": {
          "base_uri": "https://localhost:8080/",
          "height": 34
        }
      },
      "source": [
        "diabetes_data.shape"
      ],
      "execution_count": 0,
      "outputs": [
        {
          "output_type": "execute_result",
          "data": {
            "text/plain": [
              "(8, 9)"
            ]
          },
          "metadata": {
            "tags": []
          },
          "execution_count": 28
        }
      ]
    },
    {
      "cell_type": "code",
      "metadata": {
        "id": "p_j25yN3w3F_",
        "colab_type": "code",
        "colab": {}
      },
      "source": [
        "from sklearn.preprocessing import StandardScaler\n",
        "sc_X = StandardScaler()\n",
        "X =  pd.DataFrame(sc_X.fit_transform(diabetes_data_copy.drop([\"outcomes\"],axis = 1),),\n",
        "        columns=['pregnancies', 'glucose', 'Bp', 'skinthickness', 'insulin',\n",
        "       'bmi', 'diabetesPedigreeFunction', 'age'])"
      ],
      "execution_count": 0,
      "outputs": []
    },
    {
      "cell_type": "code",
      "metadata": {
        "id": "t44mYQ_nxvmD",
        "colab_type": "code",
        "outputId": "ba8e4435-9508-4e55-8697-45cb4a487d0b",
        "colab": {
          "base_uri": "https://localhost:8080/",
          "height": 204
        }
      },
      "source": [
        "X.head()"
      ],
      "execution_count": 0,
      "outputs": [
        {
          "output_type": "execute_result",
          "data": {
            "text/html": [
              "<div>\n",
              "<style scoped>\n",
              "    .dataframe tbody tr th:only-of-type {\n",
              "        vertical-align: middle;\n",
              "    }\n",
              "\n",
              "    .dataframe tbody tr th {\n",
              "        vertical-align: top;\n",
              "    }\n",
              "\n",
              "    .dataframe thead th {\n",
              "        text-align: right;\n",
              "    }\n",
              "</style>\n",
              "<table border=\"1\" class=\"dataframe\">\n",
              "  <thead>\n",
              "    <tr style=\"text-align: right;\">\n",
              "      <th></th>\n",
              "      <th>pregnancies</th>\n",
              "      <th>glucose</th>\n",
              "      <th>Bp</th>\n",
              "      <th>skinthickness</th>\n",
              "      <th>insulin</th>\n",
              "      <th>bmi</th>\n",
              "      <th>diabetesPedigreeFunction</th>\n",
              "      <th>age</th>\n",
              "    </tr>\n",
              "  </thead>\n",
              "  <tbody>\n",
              "    <tr>\n",
              "      <th>0</th>\n",
              "      <td>-1.527525</td>\n",
              "      <td>0.852803</td>\n",
              "      <td>1.021266</td>\n",
              "      <td>-0.410929</td>\n",
              "      <td>-0.342078</td>\n",
              "      <td>-0.184572</td>\n",
              "      <td>0.537772</td>\n",
              "      <td>-0.638285</td>\n",
              "    </tr>\n",
              "    <tr>\n",
              "      <th>1</th>\n",
              "      <td>-1.091089</td>\n",
              "      <td>-1.279204</td>\n",
              "      <td>-0.746896</td>\n",
              "      <td>-0.583047</td>\n",
              "      <td>-0.342078</td>\n",
              "      <td>-0.717359</td>\n",
              "      <td>-0.721402</td>\n",
              "      <td>1.334595</td>\n",
              "    </tr>\n",
              "    <tr>\n",
              "      <th>2</th>\n",
              "      <td>-0.654654</td>\n",
              "      <td>0.852803</td>\n",
              "      <td>2.240687</td>\n",
              "      <td>-0.410929</td>\n",
              "      <td>-0.342078</td>\n",
              "      <td>-0.968530</td>\n",
              "      <td>0.743072</td>\n",
              "      <td>-0.870388</td>\n",
              "    </tr>\n",
              "    <tr>\n",
              "      <th>3</th>\n",
              "      <td>-0.218218</td>\n",
              "      <td>-1.279204</td>\n",
              "      <td>-0.624954</td>\n",
              "      <td>2.618331</td>\n",
              "      <td>2.625812</td>\n",
              "      <td>-0.755415</td>\n",
              "      <td>-1.761588</td>\n",
              "      <td>-0.754337</td>\n",
              "    </tr>\n",
              "    <tr>\n",
              "      <th>4</th>\n",
              "      <td>0.218218</td>\n",
              "      <td>-0.852803</td>\n",
              "      <td>-0.594468</td>\n",
              "      <td>-0.445353</td>\n",
              "      <td>-0.534798</td>\n",
              "      <td>-0.192184</td>\n",
              "      <td>-0.844582</td>\n",
              "      <td>-0.638285</td>\n",
              "    </tr>\n",
              "  </tbody>\n",
              "</table>\n",
              "</div>"
            ],
            "text/plain": [
              "   pregnancies   glucose  ...  diabetesPedigreeFunction       age\n",
              "0    -1.527525  0.852803  ...                  0.537772 -0.638285\n",
              "1    -1.091089 -1.279204  ...                 -0.721402  1.334595\n",
              "2    -0.654654  0.852803  ...                  0.743072 -0.870388\n",
              "3    -0.218218 -1.279204  ...                 -1.761588 -0.754337\n",
              "4     0.218218 -0.852803  ...                 -0.844582 -0.638285\n",
              "\n",
              "[5 rows x 8 columns]"
            ]
          },
          "metadata": {
            "tags": []
          },
          "execution_count": 33
        }
      ]
    },
    {
      "cell_type": "code",
      "metadata": {
        "id": "e60Ym5J-14tQ",
        "colab_type": "code",
        "colab": {}
      },
      "source": [
        ""
      ],
      "execution_count": 0,
      "outputs": []
    }
  ]
}